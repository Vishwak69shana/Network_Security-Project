{
  "nbformat": 4,
  "nbformat_minor": 0,
  "metadata": {
    "colab": {
      "name": "hashing.ipynb",
      "provenance": [],
      "collapsed_sections": []
    },
    "kernelspec": {
      "name": "python3",
      "display_name": "Python 3"
    },
    "language_info": {
      "name": "python"
    }
  },
  "cells": [
    {
      "cell_type": "code",
      "metadata": {
        "colab": {
          "base_uri": "https://localhost:8080/"
        },
        "id": "576Yip2xduKP",
        "outputId": "47290997-768c-4d34-9a56-9634155f6f85"
      },
      "source": [
        "import hashlib\n",
        "a= hashlib.md5(b'Helloo')\n",
        "print(a.hexdigest())"
      ],
      "execution_count": 1,
      "outputs": [
        {
          "output_type": "stream",
          "text": [
            "55bd746519349f3f372ef409061b0fff\n"
          ],
          "name": "stdout"
        }
      ]
    },
    {
      "cell_type": "code",
      "metadata": {
        "colab": {
          "base_uri": "https://localhost:8080/"
        },
        "id": "vjL9moNjeKKr",
        "outputId": "29db76b9-dc96-4e4e-bde7-7c030a1865e1"
      },
      "source": [
        "import hashlib\n",
        "print(hashlib.algorithms_available)"
      ],
      "execution_count": 2,
      "outputs": [
        {
          "output_type": "stream",
          "text": [
            "{'blake2s', 'shake_128', 'md5', 'sha3_256', 'sha3_384', 'sha224', 'sha256', 'sha512', 'sha384', 'sha3_224', 'sha1', 'sha3_512', 'shake_256', 'blake2b'}\n"
          ],
          "name": "stdout"
        }
      ]
    },
    {
      "cell_type": "code",
      "metadata": {
        "colab": {
          "base_uri": "https://localhost:8080/"
        },
        "id": "q4cAGTuueRA5",
        "outputId": "d9c0e09d-85d4-4b95-91f2-9cb10844bb4f"
      },
      "source": [
        "import hashlib\n",
        "x = hashlib.sha224(b'Hello')\n",
        "a= x.hexdigest()\n",
        "print(a)"
      ],
      "execution_count": 3,
      "outputs": [
        {
          "output_type": "stream",
          "text": [
            "4149da18aa8bfc2b1e382c6c26556d01a92c261b6436dad5e3be3fcc\n"
          ],
          "name": "stdout"
        }
      ]
    }
  ]
}